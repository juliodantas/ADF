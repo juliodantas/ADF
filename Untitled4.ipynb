{
  "nbformat": 4,
  "nbformat_minor": 0,
  "metadata": {
    "colab": {
      "name": "Untitled4.ipynb",
      "provenance": [],
      "authorship_tag": "ABX9TyM6kb8vIVvWhvJKaUEJndvs",
      "include_colab_link": true
    },
    "kernelspec": {
      "name": "python3",
      "display_name": "Python 3"
    },
    "language_info": {
      "name": "python"
    }
  },
  "cells": [
    {
      "cell_type": "markdown",
      "metadata": {
        "id": "view-in-github",
        "colab_type": "text"
      },
      "source": [
        "<a href=\"https://colab.research.google.com/github/juliodantas/ADF/blob/main/Untitled4.ipynb\" target=\"_parent\"><img src=\"https://colab.research.google.com/assets/colab-badge.svg\" alt=\"Open In Colab\"/></a>"
      ]
    },
    {
      "cell_type": "code",
      "execution_count": 14,
      "metadata": {
        "id": "x5veYUu9M96i"
      },
      "outputs": [],
      "source": [
        "import requests\n",
        "import json"
      ]
    },
    {
      "cell_type": "code",
      "source": [
        "class ListaDeRepositorios():\n",
        "\n",
        "    def __init__(self, usuario):\n",
        "        self._usuario = usuario\n",
        "\n",
        "    def requisicao_api(self):\n",
        "        resposta = requests.get(\n",
        "            f'https://api.github.com/users/{self._usuario}/repos')\n",
        "        if resposta.status_code == 200:\n",
        "            return resposta.json()\n",
        "        else:\n",
        "            return resposta.status_code\n",
        "\n",
        "    def imprime_repositorios(self):\n",
        "        dados_api = self.requisicao_api()\n",
        "        if type(dados_api) is not int:\n",
        "            for i in range(len(dados_api)):\n",
        "                print(dados_api[i]['name'])\n",
        "        else:\n",
        "            print(dados_api)"
      ],
      "metadata": {
        "id": "UFREue1fNCll"
      },
      "execution_count": 15,
      "outputs": []
    },
    {
      "cell_type": "code",
      "source": [
        "repositorios = ListaDeRepositorios('juliodantas')\n",
        "repositorios.imprime_repositorios()"
      ],
      "metadata": {
        "colab": {
          "base_uri": "https://localhost:8080/"
        },
        "id": "456qBDRfOA1J",
        "outputId": "d6051797-45d4-4960-b1d2-b75e377532fb"
      },
      "execution_count": 13,
      "outputs": [
        {
          "output_type": "stream",
          "name": "stdout",
          "text": [
            "ADF\n",
            "AZ203\n",
            "AzureADF\n",
            "AzureDevOps\n",
            "calculadora\n",
            "CovidZero\n",
            "DevOpsEng\n",
            "game_v2\n",
            "hello-world\n",
            "juliodantas\n",
            "ML\n",
            "SQLNexus\n"
          ]
        }
      ]
    },
    {
      "cell_type": "code",
      "source": [
        ""
      ],
      "metadata": {
        "id": "m2bOWe8tOTMh"
      },
      "execution_count": null,
      "outputs": []
    }
  ]
}